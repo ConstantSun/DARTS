{
 "metadata": {
  "language_info": {
   "codemirror_mode": {
    "name": "ipython",
    "version": 3
   },
   "file_extension": ".py",
   "mimetype": "text/x-python",
   "name": "python",
   "nbconvert_exporter": "python",
   "pygments_lexer": "ipython3",
   "version": "3.6.10-final"
  },
  "orig_nbformat": 2,
  "kernelspec": {
   "name": "Python 3.6.10 64-bit",
   "display_name": "Python 3.6.10 64-bit",
   "metadata": {
    "interpreter": {
     "hash": "a7a2ea64a0d17fef4888af6b5f03c032357fa1e881ac77317b03978fb3141e0e"
    }
   }
  }
 },
 "nbformat": 4,
 "nbformat_minor": 2,
 "cells": [
  {
   "cell_type": "code",
   "execution_count": 2,
   "metadata": {},
   "outputs": [],
   "source": [
    "import torch\n",
    "import torch.nn as nn\n",
    "import torch.nn.functional as F \n"
   ]
  },
  {
   "cell_type": "code",
   "execution_count": 12,
   "metadata": {
    "tags": []
   },
   "outputs": [
    {
     "output_type": "stream",
     "name": "stdout",
     "text": "tensor([[ 0.,  1.,  2.,  3.],\n        [ 4.,  5.,  6.,  7.],\n        [ 8.,  9., 10., 11.]], dtype=torch.float64)\n"
    }
   ],
   "source": [
    "a = torch.arange(12)\n",
    "a = a.view(3, 4)\n",
    "a = a.type(\"torch.DoubleTensor\")\n",
    "print(a)"
   ]
  },
  {
   "cell_type": "code",
   "execution_count": 13,
   "metadata": {},
   "outputs": [
    {
     "output_type": "execute_result",
     "data": {
      "text/plain": "torch.float64"
     },
     "metadata": {},
     "execution_count": 13
    }
   ],
   "source": [
    "a.dtype"
   ]
  },
  {
   "cell_type": "code",
   "execution_count": 14,
   "metadata": {},
   "outputs": [],
   "source": [
    "b = F.softmax(a, dim=-1)"
   ]
  },
  {
   "cell_type": "code",
   "execution_count": 15,
   "metadata": {},
   "outputs": [
    {
     "output_type": "execute_result",
     "data": {
      "text/plain": "tensor([[0.0321, 0.0871, 0.2369, 0.6439],\n        [0.0321, 0.0871, 0.2369, 0.6439],\n        [0.0321, 0.0871, 0.2369, 0.6439]], dtype=torch.float64)"
     },
     "metadata": {},
     "execution_count": 15
    }
   ],
   "source": [
    "b"
   ]
  },
  {
   "cell_type": "code",
   "execution_count": 16,
   "metadata": {},
   "outputs": [
    {
     "output_type": "execute_result",
     "data": {
      "text/plain": "tensor([[3.2932e-04, 3.2932e-04, 3.2932e-04, 3.2932e-04],\n        [1.7980e-02, 1.7980e-02, 1.7980e-02, 1.7980e-02],\n        [9.8169e-01, 9.8169e-01, 9.8169e-01, 9.8169e-01]], dtype=torch.float64)"
     },
     "metadata": {},
     "execution_count": 16
    }
   ],
   "source": [
    "b = F.softmax(a, dim=0)\n",
    "b"
   ]
  },
  {
   "cell_type": "code",
   "execution_count": 18,
   "metadata": {},
   "outputs": [
    {
     "output_type": "execute_result",
     "data": {
      "text/plain": "tensor([[0.0321, 0.0871, 0.2369, 0.6439],\n        [0.0321, 0.0871, 0.2369, 0.6439],\n        [0.0321, 0.0871, 0.2369, 0.6439]], dtype=torch.float64)"
     },
     "metadata": {},
     "execution_count": 18
    }
   ],
   "source": [
    "b = F.softmax(a, dim=1)\n",
    "b"
   ]
  },
  {
   "cell_type": "code",
   "execution_count": null,
   "metadata": {},
   "outputs": [],
   "source": [
    "import torch\n",
    "import numpy as np\n",
    "import torch.nn as nn\n",
    "from torch.autograd import Variable\n",
    "\n",
    "\n",
    "def _concat(xs):\n",
    "  return torch.cat([x.view(-1) for x in xs])\n",
    "\n",
    "\n",
    "class Architect(object):\n",
    "  \"\"\" \n",
    "  Find alpha for constructing the true model's architecture\n",
    "  \"\"\"\n",
    "  def __init__(self, model, args):\n",
    "    self.network_momentum = args.momentum\n",
    "    self.network_weight_decay = args.weight_decay\n",
    "    self.model = model\n",
    "    self.optimizer = torch.optim.Adam(self.model.arch_parameters(),\n",
    "        lr=args.arch_learning_rate, betas=(0.5, 0.999), weight_decay=args.arch_weight_decay)\n",
    "\n",
    "  def _compute_unrolled_model(self, input, target, eta, network_optimizer):\n",
    "    loss = self.model._loss(input, target)\n",
    "    theta = _concat(self.model.parameters()).data\n",
    "    try:\n",
    "      moment = _concat(network_optimizer.state[v]['momentum_buffer'] for v in self.model.parameters()).mul_(self.network_momentum)\n",
    "    except:\n",
    "      moment = torch.zeros_like(theta)\n",
    "\n",
    "    dtheta = _concat(torch.autograd.grad(loss, self.model.parameters())).data + self.network_weight_decay*theta\n",
    "    \n",
    "    unrolled_model = self._construct_model_from_theta(theta.sub(eta, moment+dtheta))\n",
    "    return unrolled_model\n",
    "\n",
    "#         architect.step(input, target,    input_search, target_search, lr, optimizer, unrolled=args.unrolled)\n",
    "  def step(self, input_train, target_train, input_valid, target_valid, eta, network_optimizer, unrolled):\n",
    "    self.optimizer.zero_grad()\n",
    "    if unrolled:\n",
    "        self._backward_step_unrolled(input_train, target_train, input_valid, target_valid, eta, network_optimizer)\n",
    "    else:\n",
    "        self._backward_step(input_valid, target_valid)\n",
    "    self.optimizer.step()\n",
    "\n",
    "  def _backward_step(self, input_valid, target_valid):\n",
    "    loss = self.model._loss(input_valid, target_valid)\n",
    "    loss.backward()\n",
    "\n",
    "  def _backward_step_unrolled(self, input_train, target_train, input_valid, target_valid, eta, network_optimizer):\n",
    "    unrolled_model = self._compute_unrolled_model(input_train, target_train, eta, network_optimizer)\n",
    "    unrolled_loss = unrolled_model._loss(input_valid, target_valid)\n",
    "\n",
    "    unrolled_loss.backward()\n",
    "    dalpha = [v.grad for v in unrolled_model.arch_parameters()]\n",
    "    vector = [v.grad.data for v in unrolled_model.parameters()]\n",
    "    implicit_grads = self._hessian_vector_product(vector, input_train, target_train)\n",
    "\n",
    "    for g, ig in zip(dalpha, implicit_grads):\n",
    "      g.data.sub_(eta, ig.data)\n",
    "\n",
    "    for v, g in zip(self.model.arch_parameters(), dalpha):\n",
    "      if v.grad is None:\n",
    "        v.grad = Variable(g.data)\n",
    "      else:\n",
    "        v.grad.data.copy_(g.data)\n",
    "\n",
    "  def _construct_model_from_theta(self, theta):\n",
    "    model_new = self.model.new()\n",
    "    model_dict = self.model.state_dict()\n",
    "\n",
    "    params, offset = {}, 0\n",
    "    for k, v in self.model.named_parameters():\n",
    "      v_length = np.prod(v.size())\n",
    "      params[k] = theta[offset: offset+v_length].view(v.size())\n",
    "      offset += v_length\n",
    "\n",
    "    assert offset == len(theta)\n",
    "    model_dict.update(params)\n",
    "    model_new.load_state_dict(model_dict)\n",
    "    return model_new.cuda()\n",
    "\n",
    "  def _hessian_vector_product(self, vector, input, target, r=1e-2):\n",
    "    R = r / _concat(vector).norm()\n",
    "    for p, v in zip(self.model.parameters(), vector):\n",
    "      p.data.add_(R, v)\n",
    "    loss = self.model._loss(input, target)\n",
    "    grads_p = torch.autograd.grad(loss, self.model.arch_parameters())\n",
    "\n",
    "    for p, v in zip(self.model.parameters(), vector):\n",
    "      p.data.sub_(2*R, v)\n",
    "    loss = self.model._loss(input, target)\n",
    "    grads_n = torch.autograd.grad(loss, self.model.arch_parameters())\n",
    "\n",
    "    for p, v in zip(self.model.parameters(), vector):\n",
    "      p.data.add_(R, v)\n",
    "\n",
    "    return [(x-y).div_(2*R) for x, y in zip(grads_p, grads_n)]"
   ]
  },
  {
   "cell_type": "code",
   "execution_count": 21,
   "metadata": {},
   "outputs": [
    {
     "output_type": "execute_result",
     "data": {
      "text/plain": "tensor([-3.0000, -4.5000])"
     },
     "metadata": {},
     "execution_count": 21
    }
   ],
   "source": [
    "b = torch.tensor([4., 8.])\n",
    "c = torch.tensor([2., 10])\n",
    "a = torch.tensor([1, 3.5])\n",
    "a.sub(b)\n",
    "# a"
   ]
  },
  {
   "cell_type": "code",
   "execution_count": 31,
   "metadata": {},
   "outputs": [],
   "source": [
    "x = torch.randn((2,2,3,4))"
   ]
  },
  {
   "cell_type": "code",
   "execution_count": 32,
   "metadata": {},
   "outputs": [
    {
     "output_type": "execute_result",
     "data": {
      "text/plain": "tensor([[[[ 0.2644,  0.7137,  0.5636, -1.2527],\n          [-1.7035,  0.6612,  0.4075, -0.4136],\n          [-3.2694, -0.3403,  0.7133, -0.8275]],\n\n         [[-0.5982, -0.7934, -0.8426,  0.6049],\n          [ 1.1027, -2.1297,  1.1801, -0.6827],\n          [-0.5265,  0.7953, -0.7965,  1.5846]]],\n\n\n        [[[-0.4935,  1.3858,  0.5467,  1.0349],\n          [-0.3063,  0.9090, -0.8970,  0.7574],\n          [-0.9727, -1.2309,  0.8087, -1.5497]],\n\n         [[ 0.8815,  0.6950, -0.9820,  1.2215],\n          [ 0.0970,  1.7433,  0.6720,  1.4634],\n          [ 1.3636, -0.2068, -1.2228,  1.0571]]]])"
     },
     "metadata": {},
     "execution_count": 32
    }
   ],
   "source": [
    "x"
   ]
  },
  {
   "cell_type": "code",
   "execution_count": 33,
   "metadata": {},
   "outputs": [],
   "source": [
    "t = torch.cat([i.view(-1) for i in x])"
   ]
  },
  {
   "cell_type": "code",
   "execution_count": 35,
   "metadata": {},
   "outputs": [
    {
     "output_type": "execute_result",
     "data": {
      "text/plain": "tensor([ 0.2644,  0.7137,  0.5636, -1.2527, -1.7035,  0.6612,  0.4075, -0.4136,\n        -3.2694, -0.3403,  0.7133, -0.8275, -0.5982, -0.7934, -0.8426,  0.6049,\n         1.1027, -2.1297,  1.1801, -0.6827, -0.5265,  0.7953, -0.7965,  1.5846,\n        -0.4935,  1.3858,  0.5467,  1.0349, -0.3063,  0.9090, -0.8970,  0.7574,\n        -0.9727, -1.2309,  0.8087, -1.5497,  0.8815,  0.6950, -0.9820,  1.2215,\n         0.0970,  1.7433,  0.6720,  1.4634,  1.3636, -0.2068, -1.2228,  1.0571])"
     },
     "metadata": {},
     "execution_count": 35
    }
   ],
   "source": [
    "t"
   ]
  },
  {
   "cell_type": "code",
   "execution_count": 34,
   "metadata": {},
   "outputs": [
    {
     "output_type": "execute_result",
     "data": {
      "text/plain": "torch.Size([48])"
     },
     "metadata": {},
     "execution_count": 34
    }
   ],
   "source": [
    "t.shape"
   ]
  },
  {
   "cell_type": "code",
   "execution_count": 37,
   "metadata": {},
   "outputs": [
    {
     "output_type": "execute_result",
     "data": {
      "text/plain": "tensor([[ 0.7225,  0.7061,  0.7824, -0.3263, -1.4461,  2.9128,  0.5856, -1.2731,\n         -3.8618, -0.0942, -0.5922, -0.6358, -0.9077,  0.0956, -1.4553,  0.3969,\n          3.1033, -1.5001, -0.8582, -2.4838, -0.6689, -0.0579, -0.0465,  2.8432,\n         -0.4976,  2.4133, -0.4184,  4.0144, -0.3208,  1.2433, -2.0195,  2.3475,\n         -2.4071, -2.2237,  2.0568, -1.3999, -0.2721,  0.3594, -1.7325,  1.5531,\n          0.2143,  0.2022,  2.4121,  2.5769,  2.6890,  2.1729, -1.3128, -0.0271]])"
     },
     "metadata": {},
     "execution_count": 37
    }
   ],
   "source": [
    "t.sub(0.95, torch.randn(48).view(1,48))"
   ]
  },
  {
   "cell_type": "code",
   "execution_count": 40,
   "metadata": {},
   "outputs": [],
   "source": [
    "a = torch.tensor([1, 2, 3, 4, 5, 6, 7]).type(\"torch.DoubleTensor\")\n",
    "b = torch.tensor([4, 4, 4, 4, 4, 4, 4,]).type(\"torch.DoubleTensor\")\n"
   ]
  },
  {
   "cell_type": "code",
   "execution_count": 41,
   "metadata": {},
   "outputs": [],
   "source": [
    "c = a.sub(0.6, b)"
   ]
  },
  {
   "cell_type": "code",
   "execution_count": 42,
   "metadata": {},
   "outputs": [
    {
     "output_type": "execute_result",
     "data": {
      "text/plain": "tensor([-1.4000, -0.4000,  0.6000,  1.6000,  2.6000,  3.6000,  4.6000],\n       dtype=torch.float64)"
     },
     "metadata": {},
     "execution_count": 42
    }
   ],
   "source": [
    "c"
   ]
  },
  {
   "cell_type": "code",
   "execution_count": null,
   "metadata": {},
   "outputs": [],
   "source": [
    "-2  -1  0 1 2 3 4"
   ]
  },
  {
   "cell_type": "code",
   "execution_count": null,
   "metadata": {},
   "outputs": [],
   "source": []
  }
 ]
}